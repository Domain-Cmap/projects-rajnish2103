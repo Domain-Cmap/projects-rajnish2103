{
 "cells": [
  {
   "cell_type": "code",
   "execution_count": null,
   "metadata": {
    "execution": {
     "iopub.execute_input": "2025-01-12T13:02:48.564666Z",
     "iopub.status.busy": "2025-01-12T13:02:48.564217Z",
     "iopub.status.idle": "2025-01-12T13:02:48.571860Z",
     "shell.execute_reply": "2025-01-12T13:02:48.570321Z",
     "shell.execute_reply.started": "2025-01-12T13:02:48.564629Z"
    }
   },
   "outputs": [],
   "source": [
    "# necessary imports \n",
    "\n",
    "import pandas as pd\n",
    "import numpy as np\n",
    "import matplotlib.pyplot as plt\n",
    "import seaborn as sns\n",
    "import plotly.express as px\n",
    "\n",
    "import warnings\n",
    "warnings.filterwarnings('ignore')\n",
    "\n",
    "plt.style.use('ggplot')"
   ]
  },
  {
   "cell_type": "code",
   "execution_count": null,
   "metadata": {
    "execution": {
     "iopub.execute_input": "2025-01-12T13:02:48.574976Z",
     "iopub.status.busy": "2025-01-12T13:02:48.574494Z",
     "iopub.status.idle": "2025-01-12T13:02:48.607193Z",
     "shell.execute_reply": "2025-01-12T13:02:48.605721Z",
     "shell.execute_reply.started": "2025-01-12T13:02:48.574929Z"
    }
   },
   "outputs": [],
   "source": [
    "df = pd.read_csv('./insurance_claims.csv')"
   ]
  },
  {
   "cell_type": "code",
   "execution_count": null,
   "metadata": {
    "execution": {
     "iopub.execute_input": "2025-01-12T13:02:48.610613Z",
     "iopub.status.busy": "2025-01-12T13:02:48.610090Z",
     "iopub.status.idle": "2025-01-12T13:02:48.642005Z",
     "shell.execute_reply": "2025-01-12T13:02:48.640508Z",
     "shell.execute_reply.started": "2025-01-12T13:02:48.610552Z"
    }
   },
   "outputs": [],
   "source": [
    "df.head()"
   ]
  },
  {
   "cell_type": "code",
   "execution_count": null,
   "metadata": {
    "execution": {
     "iopub.execute_input": "2025-01-12T13:02:48.644250Z",
     "iopub.status.busy": "2025-01-12T13:02:48.643924Z",
     "iopub.status.idle": "2025-01-12T13:02:48.658394Z",
     "shell.execute_reply": "2025-01-12T13:02:48.657002Z",
     "shell.execute_reply.started": "2025-01-12T13:02:48.644218Z"
    }
   },
   "outputs": [],
   "source": [
    "# we can see some missing values denoted by '?' so lets replace missing values with np.nan\n",
    "\n",
    "df.replace('?', np.nan, inplace = True)"
   ]
  },
  {
   "cell_type": "code",
   "execution_count": null,
   "metadata": {
    "execution": {
     "iopub.execute_input": "2025-01-12T13:02:48.660281Z",
     "iopub.status.busy": "2025-01-12T13:02:48.659974Z",
     "iopub.status.idle": "2025-01-12T13:02:48.746130Z",
     "shell.execute_reply": "2025-01-12T13:02:48.744828Z",
     "shell.execute_reply.started": "2025-01-12T13:02:48.660252Z"
    }
   },
   "outputs": [],
   "source": [
    "df.describe()"
   ]
  },
  {
   "cell_type": "code",
   "execution_count": null,
   "metadata": {
    "execution": {
     "iopub.execute_input": "2025-01-12T13:02:48.747839Z",
     "iopub.status.busy": "2025-01-12T13:02:48.747531Z",
     "iopub.status.idle": "2025-01-12T13:02:48.768256Z",
     "shell.execute_reply": "2025-01-12T13:02:48.766945Z",
     "shell.execute_reply.started": "2025-01-12T13:02:48.747802Z"
    }
   },
   "outputs": [],
   "source": [
    "df.info()"
   ]
  },
  {
   "cell_type": "code",
   "execution_count": null,
   "metadata": {
    "execution": {
     "iopub.execute_input": "2025-01-12T13:02:48.770046Z",
     "iopub.status.busy": "2025-01-12T13:02:48.769742Z",
     "iopub.status.idle": "2025-01-12T13:02:48.789928Z",
     "shell.execute_reply": "2025-01-12T13:02:48.788624Z",
     "shell.execute_reply.started": "2025-01-12T13:02:48.770016Z"
    }
   },
   "outputs": [],
   "source": [
    "# missing values\n",
    "df.isna().sum()"
   ]
  },
  {
   "cell_type": "code",
   "execution_count": null,
   "metadata": {
    "execution": {
     "iopub.execute_input": "2025-01-12T13:02:48.792034Z",
     "iopub.status.busy": "2025-01-12T13:02:48.791609Z",
     "iopub.status.idle": "2025-01-12T13:02:52.523397Z",
     "shell.execute_reply": "2025-01-12T13:02:52.522029Z",
     "shell.execute_reply.started": "2025-01-12T13:02:48.791990Z"
    }
   },
   "outputs": [],
   "source": [
    "import missingno as msno\n",
    "\n",
    "msno.bar(df)\n",
    "plt.show()"
   ]
  },
  {
   "cell_type": "code",
   "execution_count": null,
   "metadata": {
    "execution": {
     "iopub.execute_input": "2025-01-12T13:02:52.527743Z",
     "iopub.status.busy": "2025-01-12T13:02:52.527187Z",
     "iopub.status.idle": "2025-01-12T13:02:52.536754Z",
     "shell.execute_reply": "2025-01-12T13:02:52.534962Z",
     "shell.execute_reply.started": "2025-01-12T13:02:52.527694Z"
    }
   },
   "outputs": [],
   "source": [
    "df['collision_type'] = df['collision_type'].fillna(df['collision_type'].mode()[0])"
   ]
  },
  {
   "cell_type": "code",
   "execution_count": null,
   "metadata": {
    "execution": {
     "iopub.execute_input": "2025-01-12T13:02:52.540137Z",
     "iopub.status.busy": "2025-01-12T13:02:52.539604Z",
     "iopub.status.idle": "2025-01-12T13:02:52.556829Z",
     "shell.execute_reply": "2025-01-12T13:02:52.555189Z",
     "shell.execute_reply.started": "2025-01-12T13:02:52.540088Z"
    }
   },
   "outputs": [],
   "source": [
    "df['property_damage'] = df['property_damage'].fillna(df['property_damage'].mode()[0])"
   ]
  },
  {
   "cell_type": "code",
   "execution_count": null,
   "metadata": {
    "execution": {
     "iopub.execute_input": "2025-01-12T13:02:52.559070Z",
     "iopub.status.busy": "2025-01-12T13:02:52.558704Z",
     "iopub.status.idle": "2025-01-12T13:02:52.573272Z",
     "shell.execute_reply": "2025-01-12T13:02:52.571796Z",
     "shell.execute_reply.started": "2025-01-12T13:02:52.559036Z"
    }
   },
   "outputs": [],
   "source": [
    "df['police_report_available'] = df['police_report_available'].fillna(df['police_report_available'].mode()[0])"
   ]
  },
  {
   "cell_type": "code",
   "execution_count": null,
   "metadata": {
    "execution": {
     "iopub.execute_input": "2025-01-12T13:02:52.575502Z",
     "iopub.status.busy": "2025-01-12T13:02:52.575104Z",
     "iopub.status.idle": "2025-01-12T13:02:52.595165Z",
     "shell.execute_reply": "2025-01-12T13:02:52.594023Z",
     "shell.execute_reply.started": "2025-01-12T13:02:52.575453Z"
    }
   },
   "outputs": [],
   "source": [
    "df.isna().sum()"
   ]
  },
  {
   "cell_type": "code",
   "execution_count": null,
   "metadata": {
    "execution": {
     "iopub.execute_input": "2025-01-12T13:02:52.596828Z",
     "iopub.status.busy": "2025-01-12T13:02:52.596508Z",
     "iopub.status.idle": "2025-01-12T13:02:54.682862Z",
     "shell.execute_reply": "2025-01-12T13:02:54.681658Z",
     "shell.execute_reply.started": "2025-01-12T13:02:52.596799Z"
    }
   },
   "outputs": [],
   "source": [
    "# heatmap\n",
    "\n",
    "plt.figure(figsize = (18, 12))\n",
    "\n",
    "corr = df.corr()\n",
    "\n",
    "sns.heatmap(data = corr, annot = True, fmt = '.2g', linewidth = 1)\n",
    "plt.show()"
   ]
  },
  {
   "cell_type": "code",
   "execution_count": null,
   "metadata": {
    "execution": {
     "iopub.execute_input": "2025-01-12T13:02:54.684715Z",
     "iopub.status.busy": "2025-01-12T13:02:54.684385Z",
     "iopub.status.idle": "2025-01-12T13:02:54.710463Z",
     "shell.execute_reply": "2025-01-12T13:02:54.709275Z",
     "shell.execute_reply.started": "2025-01-12T13:02:54.684685Z"
    }
   },
   "outputs": [],
   "source": [
    "df.nunique()"
   ]
  },
  {
   "cell_type": "code",
   "execution_count": null,
   "metadata": {
    "execution": {
     "iopub.execute_input": "2025-01-12T13:02:54.712631Z",
     "iopub.status.busy": "2025-01-12T13:02:54.712186Z",
     "iopub.status.idle": "2025-01-12T13:02:54.720788Z",
     "shell.execute_reply": "2025-01-12T13:02:54.719226Z",
     "shell.execute_reply.started": "2025-01-12T13:02:54.712584Z"
    }
   },
   "outputs": [],
   "source": [
    "# dropping columns which are not necessary for prediction\n",
    "\n",
    "to_drop = ['policy_number','policy_bind_date','policy_state','insured_zip','incident_location','incident_date',\n",
    "           'incident_state','incident_city','insured_hobbies','auto_make','auto_model','auto_year', '_c39']\n",
    "\n",
    "df.drop(to_drop, inplace = True, axis = 1)"
   ]
  },
  {
   "cell_type": "code",
   "execution_count": null,
   "metadata": {
    "execution": {
     "iopub.execute_input": "2025-01-12T13:02:54.723320Z",
     "iopub.status.busy": "2025-01-12T13:02:54.722857Z",
     "iopub.status.idle": "2025-01-12T13:02:54.761888Z",
     "shell.execute_reply": "2025-01-12T13:02:54.760593Z",
     "shell.execute_reply.started": "2025-01-12T13:02:54.723271Z"
    }
   },
   "outputs": [],
   "source": [
    "df.head()"
   ]
  },
  {
   "cell_type": "code",
   "execution_count": null,
   "metadata": {
    "execution": {
     "iopub.execute_input": "2025-01-12T13:02:54.763746Z",
     "iopub.status.busy": "2025-01-12T13:02:54.763379Z",
     "iopub.status.idle": "2025-01-12T13:02:55.751753Z",
     "shell.execute_reply": "2025-01-12T13:02:55.750604Z",
     "shell.execute_reply.started": "2025-01-12T13:02:54.763713Z"
    }
   },
   "outputs": [],
   "source": [
    "# checking for multicollinearity\n",
    "\n",
    "plt.figure(figsize = (18, 12))\n",
    "\n",
    "corr = df.corr()\n",
    "mask = np.triu(np.ones_like(corr, dtype = bool))\n",
    "\n",
    "sns.heatmap(data = corr, mask = mask, annot = True, fmt = '.2g', linewidth = 1)\n",
    "plt.show()"
   ]
  },
  {
   "cell_type": "markdown",
   "metadata": {},
   "source": [
    "**From the above plot, we can see that there is high correlation between `age` and `months_as_customer`.We will drop the \"Age\" column. Also there is high correlation between `total_clam_amount`, `injury_claim`, `property_claim`, `vehicle_claim` as total claim is the sum of all others. So we will drop the total claim column.**"
   ]
  },
  {
   "cell_type": "code",
   "execution_count": null,
   "metadata": {
    "execution": {
     "iopub.execute_input": "2025-01-12T13:02:55.753408Z",
     "iopub.status.busy": "2025-01-12T13:02:55.753107Z",
     "iopub.status.idle": "2025-01-12T13:02:55.760024Z",
     "shell.execute_reply": "2025-01-12T13:02:55.758747Z",
     "shell.execute_reply.started": "2025-01-12T13:02:55.753378Z"
    }
   },
   "outputs": [],
   "source": [
    "df.drop(columns = ['age', 'total_claim_amount'], inplace = True, axis = 1)"
   ]
  },
  {
   "cell_type": "code",
   "execution_count": null,
   "metadata": {
    "execution": {
     "iopub.execute_input": "2025-01-12T13:02:55.761854Z",
     "iopub.status.busy": "2025-01-12T13:02:55.761484Z",
     "iopub.status.idle": "2025-01-12T13:02:55.799938Z",
     "shell.execute_reply": "2025-01-12T13:02:55.798557Z",
     "shell.execute_reply.started": "2025-01-12T13:02:55.761819Z"
    }
   },
   "outputs": [],
   "source": [
    "df.head()"
   ]
  },
  {
   "cell_type": "code",
   "execution_count": null,
   "metadata": {
    "execution": {
     "iopub.execute_input": "2025-01-12T13:02:55.802181Z",
     "iopub.status.busy": "2025-01-12T13:02:55.801727Z",
     "iopub.status.idle": "2025-01-12T13:02:55.824985Z",
     "shell.execute_reply": "2025-01-12T13:02:55.823726Z",
     "shell.execute_reply.started": "2025-01-12T13:02:55.802135Z"
    }
   },
   "outputs": [],
   "source": [
    "df.info()"
   ]
  },
  {
   "cell_type": "code",
   "execution_count": null,
   "metadata": {
    "execution": {
     "iopub.execute_input": "2025-01-12T13:02:55.827057Z",
     "iopub.status.busy": "2025-01-12T13:02:55.826649Z",
     "iopub.status.idle": "2025-01-12T13:02:55.840029Z",
     "shell.execute_reply": "2025-01-12T13:02:55.838671Z",
     "shell.execute_reply.started": "2025-01-12T13:02:55.827006Z"
    }
   },
   "outputs": [],
   "source": [
    "num_columns = len(df.columns)\n",
    "\n",
    "# Print the number of columns\n",
    "print(f\"The DataFrame has {num_columns} columns.\")\n",
    "\n",
    "# Print the column names\n",
    "print(\"The columns are:\")\n",
    "print(df.columns.tolist())"
   ]
  },
  {
   "cell_type": "code",
   "execution_count": null,
   "metadata": {
    "execution": {
     "iopub.execute_input": "2025-01-12T13:02:55.842138Z",
     "iopub.status.busy": "2025-01-12T13:02:55.841756Z",
     "iopub.status.idle": "2025-01-12T13:02:55.858328Z",
     "shell.execute_reply": "2025-01-12T13:02:55.856932Z",
     "shell.execute_reply.started": "2025-01-12T13:02:55.842106Z"
    }
   },
   "outputs": [],
   "source": [
    "# separating the feature and target columns\n",
    "\n",
    "X = df.drop('fraud_reported', axis = 1)\n",
    "# y = df['fraud_reported']\n",
    "y = df['fraud_reported'].map({'Y': 1, 'N': 0})  # Convert 'fraud_reported' to binary (1 for 'Y', 0 for 'N')"
   ]
  },
  {
   "cell_type": "code",
   "execution_count": null,
   "metadata": {
    "execution": {
     "iopub.execute_input": "2025-01-12T13:02:55.860507Z",
     "iopub.status.busy": "2025-01-12T13:02:55.860087Z",
     "iopub.status.idle": "2025-01-12T13:02:55.887455Z",
     "shell.execute_reply": "2025-01-12T13:02:55.885880Z",
     "shell.execute_reply.started": "2025-01-12T13:02:55.860467Z"
    }
   },
   "outputs": [],
   "source": [
    "num_columns = len(X.columns)\n",
    "\n",
    "# Print the number of columns\n",
    "print(f\"The DataFrame has {num_columns} columns.\")\n",
    "\n",
    "# Print the column names\n",
    "print(\"The columns are:\")\n",
    "print(X.columns.tolist())\n",
    "\n",
    "X.info()"
   ]
  },
  {
   "cell_type": "code",
   "execution_count": null,
   "metadata": {
    "execution": {
     "iopub.execute_input": "2025-01-12T13:02:55.889470Z",
     "iopub.status.busy": "2025-01-12T13:02:55.889083Z",
     "iopub.status.idle": "2025-01-12T13:02:55.908299Z",
     "shell.execute_reply": "2025-01-12T13:02:55.907082Z",
     "shell.execute_reply.started": "2025-01-12T13:02:55.889403Z"
    }
   },
   "outputs": [],
   "source": [
    "# extracting categorical columns\n",
    "cat_df = X.select_dtypes(include = ['object'])"
   ]
  },
  {
   "cell_type": "code",
   "execution_count": null,
   "metadata": {
    "execution": {
     "iopub.execute_input": "2025-01-12T13:02:55.910335Z",
     "iopub.status.busy": "2025-01-12T13:02:55.910007Z",
     "iopub.status.idle": "2025-01-12T13:02:55.935529Z",
     "shell.execute_reply": "2025-01-12T13:02:55.934206Z",
     "shell.execute_reply.started": "2025-01-12T13:02:55.910302Z"
    }
   },
   "outputs": [],
   "source": [
    "num_columns = len(cat_df.columns)\n",
    "\n",
    "# Print the number of columns\n",
    "print(f\"The DataFrame has {num_columns} columns.\")\n",
    "\n",
    "# Print the column names\n",
    "print(\"The columns are:\")\n",
    "print(cat_df.columns.tolist())\n",
    "cat_df.info()"
   ]
  },
  {
   "cell_type": "code",
   "execution_count": null,
   "metadata": {
    "execution": {
     "iopub.execute_input": "2025-01-12T13:02:55.937943Z",
     "iopub.status.busy": "2025-01-12T13:02:55.937474Z",
     "iopub.status.idle": "2025-01-12T13:02:55.957221Z",
     "shell.execute_reply": "2025-01-12T13:02:55.955712Z",
     "shell.execute_reply.started": "2025-01-12T13:02:55.937895Z"
    }
   },
   "outputs": [],
   "source": [
    "cat_df.head()"
   ]
  },
  {
   "cell_type": "code",
   "execution_count": null,
   "metadata": {
    "execution": {
     "iopub.execute_input": "2025-01-12T13:02:55.963399Z",
     "iopub.status.busy": "2025-01-12T13:02:55.963027Z",
     "iopub.status.idle": "2025-01-12T13:02:55.983559Z",
     "shell.execute_reply": "2025-01-12T13:02:55.982143Z",
     "shell.execute_reply.started": "2025-01-12T13:02:55.963369Z"
    }
   },
   "outputs": [],
   "source": [
    "# printing unique values of each column\n",
    "for col in cat_df.columns:\n",
    "    print(f\"{col}: \\n{cat_df[col].unique()}\\n\")"
   ]
  },
  {
   "cell_type": "code",
   "execution_count": null,
   "metadata": {
    "execution": {
     "iopub.execute_input": "2025-01-12T13:02:55.987582Z",
     "iopub.status.busy": "2025-01-12T13:02:55.987129Z",
     "iopub.status.idle": "2025-01-12T13:02:56.009108Z",
     "shell.execute_reply": "2025-01-12T13:02:56.007894Z",
     "shell.execute_reply.started": "2025-01-12T13:02:55.987547Z"
    }
   },
   "outputs": [],
   "source": [
    "cat_df = pd.get_dummies(cat_df, drop_first = True)"
   ]
  },
  {
   "cell_type": "code",
   "execution_count": null,
   "metadata": {
    "execution": {
     "iopub.execute_input": "2025-01-12T13:02:56.011187Z",
     "iopub.status.busy": "2025-01-12T13:02:56.010867Z",
     "iopub.status.idle": "2025-01-12T13:02:56.037349Z",
     "shell.execute_reply": "2025-01-12T13:02:56.035963Z",
     "shell.execute_reply.started": "2025-01-12T13:02:56.011156Z"
    }
   },
   "outputs": [],
   "source": [
    "cat_df.head()"
   ]
  },
  {
   "cell_type": "code",
   "execution_count": null,
   "metadata": {
    "execution": {
     "iopub.execute_input": "2025-01-12T13:02:56.039107Z",
     "iopub.status.busy": "2025-01-12T13:02:56.038800Z",
     "iopub.status.idle": "2025-01-12T13:02:56.053655Z",
     "shell.execute_reply": "2025-01-12T13:02:56.052544Z",
     "shell.execute_reply.started": "2025-01-12T13:02:56.039076Z"
    }
   },
   "outputs": [],
   "source": [
    "# extracting the numerical columns\n",
    "\n",
    "num_df = X.select_dtypes(include = ['int64'])"
   ]
  },
  {
   "cell_type": "code",
   "execution_count": null,
   "metadata": {
    "execution": {
     "iopub.execute_input": "2025-01-12T13:02:56.055530Z",
     "iopub.status.busy": "2025-01-12T13:02:56.055139Z",
     "iopub.status.idle": "2025-01-12T13:02:56.078246Z",
     "shell.execute_reply": "2025-01-12T13:02:56.076922Z",
     "shell.execute_reply.started": "2025-01-12T13:02:56.055478Z"
    }
   },
   "outputs": [],
   "source": [
    "num_df.head()"
   ]
  },
  {
   "cell_type": "code",
   "execution_count": null,
   "metadata": {
    "execution": {
     "iopub.execute_input": "2025-01-12T13:02:56.080489Z",
     "iopub.status.busy": "2025-01-12T13:02:56.080095Z",
     "iopub.status.idle": "2025-01-12T13:02:56.095703Z",
     "shell.execute_reply": "2025-01-12T13:02:56.094339Z",
     "shell.execute_reply.started": "2025-01-12T13:02:56.080424Z"
    }
   },
   "outputs": [],
   "source": [
    "# combining the Numerical and Categorical dataframes to get the final dataset\n",
    "\n",
    "X = pd.concat([num_df, cat_df], axis = 1)"
   ]
  },
  {
   "cell_type": "code",
   "execution_count": null,
   "metadata": {
    "execution": {
     "iopub.execute_input": "2025-01-12T13:02:56.097871Z",
     "iopub.status.busy": "2025-01-12T13:02:56.097380Z",
     "iopub.status.idle": "2025-01-12T13:02:56.125882Z",
     "shell.execute_reply": "2025-01-12T13:02:56.124590Z",
     "shell.execute_reply.started": "2025-01-12T13:02:56.097822Z"
    }
   },
   "outputs": [],
   "source": [
    "X.head()"
   ]
  },
  {
   "cell_type": "code",
   "execution_count": null,
   "metadata": {
    "execution": {
     "iopub.execute_input": "2025-01-12T13:02:56.128237Z",
     "iopub.status.busy": "2025-01-12T13:02:56.127795Z",
     "iopub.status.idle": "2025-01-12T13:03:01.171690Z",
     "shell.execute_reply": "2025-01-12T13:03:01.170352Z",
     "shell.execute_reply.started": "2025-01-12T13:02:56.128192Z"
    }
   },
   "outputs": [],
   "source": [
    "plt.figure(figsize = (25, 20))\n",
    "plotnumber = 1\n",
    "\n",
    "for col in X.columns:\n",
    "    if plotnumber <= 24:\n",
    "        ax = plt.subplot(5, 5, plotnumber)\n",
    "        sns.distplot(X[col])\n",
    "        plt.xlabel(col, fontsize = 15)\n",
    "        \n",
    "    plotnumber += 1\n",
    "    \n",
    "plt.tight_layout()\n",
    "plt.show()"
   ]
  },
  {
   "cell_type": "markdown",
   "metadata": {},
   "source": [
    "**Data looks good, let's check for outliers.**"
   ]
  },
  {
   "cell_type": "code",
   "execution_count": null,
   "metadata": {
    "execution": {
     "iopub.execute_input": "2025-01-12T13:03:01.173456Z",
     "iopub.status.busy": "2025-01-12T13:03:01.173114Z",
     "iopub.status.idle": "2025-01-12T13:03:04.156785Z",
     "shell.execute_reply": "2025-01-12T13:03:04.155564Z",
     "shell.execute_reply.started": "2025-01-12T13:03:01.173404Z"
    }
   },
   "outputs": [],
   "source": [
    "plt.figure(figsize = (20, 15))\n",
    "plotnumber = 1\n",
    "\n",
    "for col in X.columns:\n",
    "    if plotnumber <= 24:\n",
    "        ax = plt.subplot(5, 5, plotnumber)\n",
    "        sns.boxplot(X[col])\n",
    "        plt.xlabel(col, fontsize = 15)\n",
    "    \n",
    "    plotnumber += 1\n",
    "plt.tight_layout()\n",
    "plt.show()"
   ]
  },
  {
   "cell_type": "markdown",
   "metadata": {},
   "source": [
    "**Outliers are present in some numerical columns we will scale numerical columns later**"
   ]
  },
  {
   "cell_type": "code",
   "execution_count": null,
   "metadata": {
    "execution": {
     "iopub.execute_input": "2025-01-12T13:03:04.158668Z",
     "iopub.status.busy": "2025-01-12T13:03:04.158312Z",
     "iopub.status.idle": "2025-01-12T13:03:04.162663Z",
     "shell.execute_reply": "2025-01-12T13:03:04.161569Z",
     "shell.execute_reply.started": "2025-01-12T13:03:04.158632Z"
    }
   },
   "outputs": [],
   "source": [
    "# splitting data into training set and test set\n",
    "\n",
    "# from sklearn.model_selection import train_test_split\n",
    "\n",
    "# X_train, X_test, y_train, y_test = train_test_split(X, y, test_size = 0.25)"
   ]
  },
  {
   "cell_type": "code",
   "execution_count": null,
   "metadata": {
    "execution": {
     "iopub.execute_input": "2025-01-12T13:03:04.164540Z",
     "iopub.status.busy": "2025-01-12T13:03:04.164164Z",
     "iopub.status.idle": "2025-01-12T13:03:04.182797Z",
     "shell.execute_reply": "2025-01-12T13:03:04.181190Z",
     "shell.execute_reply.started": "2025-01-12T13:03:04.164507Z"
    }
   },
   "outputs": [],
   "source": [
    "print(X_train.shape)  # Should be (num_samples, num_features)\n",
    "print(y_train.shape)  # Should be (num_samples,)\n"
   ]
  },
  {
   "cell_type": "code",
   "execution_count": null,
   "metadata": {
    "execution": {
     "iopub.execute_input": "2025-01-12T18:26:48.433728Z",
     "iopub.status.busy": "2025-01-12T18:26:48.433263Z",
     "iopub.status.idle": "2025-01-12T18:30:42.425645Z",
     "shell.execute_reply": "2025-01-12T18:30:42.424277Z",
     "shell.execute_reply.started": "2025-01-12T18:26:48.433686Z"
    }
   },
   "outputs": [],
   "source": [
    "# !tensorflowjs_converter --input_format=tf_saved_model --output_node_names='Identity' --saved_modddel_tags=serve /path/to/your/saved_model /path/to/output/folder\n",
    "!pip install tensorflowjs"
   ]
  },
  {
   "cell_type": "code",
   "execution_count": null,
   "metadata": {
    "execution": {
     "iopub.execute_input": "2025-01-12T14:05:36.831590Z",
     "iopub.status.busy": "2025-01-12T14:05:36.831155Z",
     "iopub.status.idle": "2025-01-12T14:05:41.300534Z",
     "shell.execute_reply": "2025-01-12T14:05:41.299314Z",
     "shell.execute_reply.started": "2025-01-12T14:05:36.831554Z"
    }
   },
   "outputs": [],
   "source": [
    "import tensorflow as tf\n",
    "from sklearn.model_selection import train_test_split\n",
    "from sklearn.preprocessing import StandardScaler\n",
    "from sklearn.metrics import accuracy_score\n",
    "\n",
    "# Assuming you have your own pre-processed dataset in X and y\n",
    "# X = your_feature_data  # Shape (num_samples, num_features)\n",
    "# y = your_labels  # Shape (num_samples,)\n",
    "\n",
    "# Split data into training and testing sets\n",
    "X_train, X_test, y_train, y_test = train_test_split(X, y, test_size=0.25, random_state=42)\n",
    "\n",
    "# Normalize the data (optional but recommended)\n",
    "scaler = StandardScaler()\n",
    "X_train = scaler.fit_transform(X_train)\n",
    "X_test = scaler.transform(X_test)\n",
    "\n",
    "# Build a simple neural network model using TensorFlow\n",
    "model = tf.keras.Sequential([\n",
    "    tf.keras.layers.InputLayer(input_shape=(X_train.shape[1],)),  # Input layer based on your feature count\n",
    "    tf.keras.layers.Dense(64, activation='relu'),  # Hidden layer with 64 units\n",
    "    tf.keras.layers.Dense(len(set(y)), activation='softmax')  # Output layer with the number of unique classes in y\n",
    "])\n",
    "\n",
    "# Compile the model\n",
    "model.compile(optimizer='adam', loss='sparse_categorical_crossentropy', metrics=['accuracy'])\n",
    "\n",
    "# Train the model\n",
    "model.fit(X_train, y_train, epochs=20, batch_size=16, validation_data=(X_test, y_test))\n",
    "\n",
    "# Evaluate the model on the test set\n",
    "test_loss, test_acc = model.evaluate(X_test, y_test, verbose=2)\n",
    "\n",
    "# Print the test accuracy\n",
    "print(f'Test Accuracy: {test_acc * 100:.2f}%')\n",
    "\n",
    "# Optionally, predict on the test set and calculate accuracy manually\n",
    "y_pred = model.predict(X_test)\n",
    "y_pred_classes = tf.argmax(y_pred, axis=1).numpy()  # Get the predicted class indices\n",
    "accuracy = accuracy_score(y_test, y_pred_classes)\n",
    "print(f'Manual Accuracy: {accuracy * 100:.2f}%')\n",
    "\n",
    "# Save the model in TensorFlow SavedModel format\n",
    "model.save('saved_model/my_model')"
   ]
  }
 ],
 "metadata": {
  "kaggle": {
   "accelerator": "none",
   "dataSources": [
    {
     "datasetId": 45152,
     "sourceId": 82501,
     "sourceType": "datasetVersion"
    }
   ],
   "dockerImageVersionId": 30096,
   "isGpuEnabled": false,
   "isInternetEnabled": false,
   "language": "python",
   "sourceType": "notebook"
  },
  "kernelspec": {
   "display_name": "Python 3 (ipykernel)",
   "language": "python",
   "name": "python3"
  },
  "language_info": {
   "codemirror_mode": {
    "name": "ipython",
    "version": 3
   },
   "file_extension": ".py",
   "mimetype": "text/x-python",
   "name": "python",
   "nbconvert_exporter": "python",
   "pygments_lexer": "ipython3",
   "version": "3.12.7"
  }
 },
 "nbformat": 4,
 "nbformat_minor": 4
}
